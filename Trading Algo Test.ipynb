{
 "cells": [
  {
   "cell_type": "code",
   "execution_count": 2,
   "metadata": {
    "scrolled": false
   },
   "outputs": [],
   "source": [
    "#Packages\n",
    "import pandas as pd\n",
    "from pandas_datareader import data\n",
    "import datetime as dt\n",
    "from datetime import timedelta, date\n",
    "import matplotlib.pyplot as plt\n",
    "from scipy import stats"
   ]
  },
  {
   "cell_type": "code",
   "execution_count": 3,
   "metadata": {},
   "outputs": [],
   "source": [
    "#Variables\n",
    "dateRange = 120\n",
    "slopeThresh = .1\n",
    "varThresh = .05\n",
    "\n",
    "#(yes/no) Calculate Slope and Var thresh?\n",
    "slopeVarCalc = 'yes'\n",
    "\n",
    "#make sure to enter your path\n",
    "excelOutputFolder = r'C:\\Users\\adamd\\Desktop\\Hobbies and Things\\PandasOutputExtracts\\\\'"
   ]
  },
  {
   "cell_type": "code",
   "execution_count": null,
   "metadata": {},
   "outputs": [],
   "source": [
    "#Create Clean Reset DF\n",
    "statsDFBlank = pd.DataFrame(columns = ['Symbol', 'LastPrice', 'Days', 'StDev', 'Avg', 'Slope', 'Std/Avg'])\n",
    "statsDF = statsDFBlank\n",
    "\n",
    "#set date range\n",
    "endDate = date.today()\n",
    "dateRange = dt.timedelta(dateRange)\n",
    "startDate = endDate - dateRange\n",
    "\n",
    "#Pull all S&P stocks\n",
    "wiki = pd.read_html('https://en.wikipedia.org/wiki/List_of_S%26P_500_companies')\n",
    "w = wiki[0]\n",
    "w = w['Symbol']\n",
    "w = w.reset_index()\n",
    "iterations = len(w)\n",
    "\n",
    "#Generate Export DF\n",
    "for x in range(iterations): \n",
    "    try:\n",
    "        #Pick a ticker\n",
    "        myTicker = w['Symbol'].iloc[x]\n",
    "\n",
    "        #List Prices\n",
    "        Prices = data.DataReader([myTicker], 'yahoo', start=startDate, end=endDate)         \n",
    "        Prices = Prices['Adj Close']\n",
    "        Prices = Prices.reset_index()\n",
    "\n",
    "        #Find Stats\n",
    "        stdPrice = Prices.std()[myTicker]\n",
    "        avgPrice = Prices.mean()[myTicker]\n",
    "        tradeDays = Prices.count()[myTicker]\n",
    "\n",
    "        #Find slope\n",
    "        slope, intercept, r, p, se = stats.linregress(Prices.index, Prices[myTicker])\n",
    "\n",
    "        #Select most recent price\n",
    "        mostrecent = Prices[myTicker].iloc[len(Prices)-1]\n",
    "\n",
    "        #How volitaile\n",
    "        percentStd = stdPrice / avgPrice\n",
    "\n",
    "        #Add Export Data\n",
    "        exData = {'Symbol': myTicker,\n",
    "            'LastPrice': mostrecent,\n",
    "            'Days': tradeDays,\n",
    "            'StDev': stdPrice,\n",
    "            'Avg': avgPrice,\n",
    "            'Slope': slope,\n",
    "            'Std/Avg': percentStd}\n",
    "        statsDF = statsDF.append(exData, ignore_index = True)\n",
    "    except:\n",
    "        continue\n"
   ]
  },
  {
   "cell_type": "code",
   "execution_count": null,
   "metadata": {},
   "outputs": [],
   "source": [
    "#view output\n",
    "statsDF"
   ]
  },
  {
   "cell_type": "code",
   "execution_count": null,
   "metadata": {},
   "outputs": [],
   "source": [
    "statsStatsDF = statsDF.describe()\n",
    "statsStatsDF"
   ]
  },
  {
   "cell_type": "code",
   "execution_count": null,
   "metadata": {},
   "outputs": [],
   "source": [
    "#function to set auto-limits\n",
    "if slopeVarCalc == 'yes':\n",
    "    varThresh = statsStatsDF['Std/Avg'].iloc[6]\n",
    "    slopeThresh = statsStatsDF['Slope'].iloc[5]\n",
    "    "
   ]
  },
  {
   "cell_type": "code",
   "execution_count": null,
   "metadata": {},
   "outputs": [],
   "source": [
    "#apply Buy and Sell Price and Logic\n",
    "statsDFTwo = statsDF\n",
    "statsDFTwo['buyPrice'] = statsDFTwo['Avg'] - statsDFTwo['StDev']\n",
    "statsDFTwo['sellPrice'] = statsDFTwo['Avg'] + statsDFTwo['StDev']\n",
    "statsDFTwo.loc[statsDFTwo['LastPrice'] <= statsDFTwo['buyPrice'], 'Buy?'] = 'yes' \n",
    "statsDFTwo.loc[statsDFTwo['LastPrice'] >= statsDFTwo['sellPrice'], 'Sell?'] = 'yes'\n",
    "\n",
    "statsDFTwo=statsDFTwo.fillna('no')\n",
    "\n",
    "def f(row):\n",
    "    if row['Buy?'] == 'yes' or row['Sell?'] == 'yes':\n",
    "        val = 'yes'\n",
    "    else:\n",
    "        val = 'no'\n",
    "    return val\n",
    "\n",
    "statsDFTwo['Buy or Sell?'] = statsDFTwo.apply(f, axis=1)\n",
    "\n",
    "def s(row):\n",
    "    if row['Slope?'].abs() < slopeThresh and row['Std/Avg'] > varThresh:\n",
    "        val = 'yes'\n",
    "    else:\n",
    "        val = 'no'\n",
    "    return val\n",
    "statsDFTwo['Qualifying Stock?'] = statsDFTwo.apply(f, axis=1)\n",
    "\n",
    "statsDFTwo"
   ]
  },
  {
   "cell_type": "code",
   "execution_count": null,
   "metadata": {},
   "outputs": [],
   "source": [
    "#filter  for only reccomended buys and sells\n",
    "\n",
    "\n",
    "statsDFThree = statsDFTwo[statsDFTwo['Slope'].abs() < slopeThresh]  \n",
    "statsDFThree = statsDFThree[statsDFThree['Std/Avg'] > varThresh]\n",
    "statsDFThree = statsDFThree[statsDFThree['Buy or Sell?'] == 'yes']\n",
    "statsDFThree"
   ]
  },
  {
   "cell_type": "code",
   "execution_count": 423,
   "metadata": {},
   "outputs": [],
   "source": [
    "#Export all data to excel\n",
    "statsDF.to_excel(excelOutputFolder+\"StockStatsExport.xlsx\")\n",
    "statsDFTwo.to_excel(excelOutputFolder+\"StockStatsExportwithCalcs.xlsx\")\n",
    "statsDFThree.to_excel(excelOutputFolder+\"StockStatsExportwithCalcsRefined.xlsx\")"
   ]
  }
 ],
 "metadata": {
  "kernelspec": {
   "display_name": "Python 3",
   "language": "python",
   "name": "python3"
  },
  "language_info": {
   "codemirror_mode": {
    "name": "ipython",
    "version": 3
   },
   "file_extension": ".py",
   "mimetype": "text/x-python",
   "name": "python",
   "nbconvert_exporter": "python",
   "pygments_lexer": "ipython3",
   "version": "3.8.3"
  }
 },
 "nbformat": 4,
 "nbformat_minor": 4
}
